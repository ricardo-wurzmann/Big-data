{
 "cells": [
  {
   "cell_type": "markdown",
   "metadata": {
    "application/vnd.databricks.v1+cell": {
     "cellMetadata": {
      "byteLimit": 2048000,
      "rowLimit": 10000
     },
     "inputWidgets": {},
     "nuid": "7026c3e6-dd82-44b8-a383-ef4866e1a8bc",
     "showTitle": false,
     "tableResultSettingsMap": {},
     "title": ""
    }
   },
   "source": [
    "# Projeto Big Data para dados públicos 2024.2\n",
    "### Julia Diniz\n",
    "### Armando Roque Neto\n",
    "### Ricardo Wurzmann\n"
   ]
  },
  {
   "cell_type": "code",
   "execution_count": 0,
   "metadata": {
    "application/vnd.databricks.v1+cell": {
     "cellMetadata": {
      "byteLimit": 2048000,
      "rowLimit": 10000
     },
     "inputWidgets": {},
     "nuid": "8abce99c-ec04-4fce-b3a1-a01ebd6276ff",
     "showTitle": false,
     "tableResultSettingsMap": {},
     "title": ""
    }
   },
   "outputs": [],
   "source": [
    "import pyspark.sql.functions as func"
   ]
  },
  {
   "cell_type": "code",
   "execution_count": 0,
   "metadata": {
    "application/vnd.databricks.v1+cell": {
     "cellMetadata": {
      "byteLimit": 2048000,
      "rowLimit": 10000
     },
     "inputWidgets": {},
     "nuid": "2e709446-5946-4c81-b09e-3f1e6ab91931",
     "showTitle": false,
     "tableResultSettingsMap": {},
     "title": ""
    }
   },
   "outputs": [],
   "source": [
    "dados = spark.read.csv(\"s3://bigdata-rais/projeto/ricardow3/car_evaluation.csv\")\n"
   ]
  },
  {
   "cell_type": "code",
   "execution_count": 0,
   "metadata": {
    "application/vnd.databricks.v1+cell": {
     "cellMetadata": {
      "byteLimit": 2048000,
      "rowLimit": 10000
     },
     "inputWidgets": {},
     "nuid": "90f92e8b-ec11-46e4-98c1-714a2b40f51f",
     "showTitle": false,
     "tableResultSettingsMap": {},
     "title": ""
    }
   },
   "outputs": [
    {
     "output_type": "display_data",
     "data": {
      "text/html": [
       "<style scoped>\n",
       "  .table-result-container {\n",
       "    max-height: 300px;\n",
       "    overflow: auto;\n",
       "  }\n",
       "  table, th, td {\n",
       "    border: 1px solid black;\n",
       "    border-collapse: collapse;\n",
       "  }\n",
       "  th, td {\n",
       "    padding: 5px;\n",
       "  }\n",
       "  th {\n",
       "    text-align: left;\n",
       "  }\n",
       "</style><div class='table-result-container'><table class='table-result'><thead style='background-color: white'><tr><th>_c0</th><th>_c1</th><th>_c2</th><th>_c3</th><th>_c4</th><th>_c5</th><th>_c6</th></tr></thead><tbody><tr><td>vhigh</td><td>vhigh</td><td>2</td><td>2</td><td>small</td><td>low</td><td>unacc</td></tr><tr><td>vhigh</td><td>vhigh</td><td>2</td><td>2</td><td>small</td><td>med</td><td>unacc</td></tr><tr><td>vhigh</td><td>vhigh</td><td>2</td><td>2</td><td>small</td><td>high</td><td>unacc</td></tr><tr><td>vhigh</td><td>vhigh</td><td>2</td><td>2</td><td>med</td><td>low</td><td>unacc</td></tr><tr><td>vhigh</td><td>vhigh</td><td>2</td><td>2</td><td>med</td><td>med</td><td>unacc</td></tr><tr><td>vhigh</td><td>vhigh</td><td>2</td><td>2</td><td>med</td><td>high</td><td>unacc</td></tr><tr><td>vhigh</td><td>vhigh</td><td>2</td><td>2</td><td>big</td><td>low</td><td>unacc</td></tr><tr><td>vhigh</td><td>vhigh</td><td>2</td><td>2</td><td>big</td><td>med</td><td>unacc</td></tr><tr><td>vhigh</td><td>vhigh</td><td>2</td><td>2</td><td>big</td><td>high</td><td>unacc</td></tr><tr><td>vhigh</td><td>vhigh</td><td>2</td><td>4</td><td>small</td><td>low</td><td>unacc</td></tr></tbody></table></div>"
      ]
     },
     "metadata": {
      "application/vnd.databricks.v1+output": {
       "addedWidgets": {},
       "aggData": [],
       "aggError": "",
       "aggOverflow": false,
       "aggSchema": [],
       "aggSeriesLimitReached": false,
       "aggType": "",
       "arguments": {},
       "columnCustomDisplayInfos": {},
       "data": [
        [
         "vhigh",
         "vhigh",
         "2",
         "2",
         "small",
         "low",
         "unacc"
        ],
        [
         "vhigh",
         "vhigh",
         "2",
         "2",
         "small",
         "med",
         "unacc"
        ],
        [
         "vhigh",
         "vhigh",
         "2",
         "2",
         "small",
         "high",
         "unacc"
        ],
        [
         "vhigh",
         "vhigh",
         "2",
         "2",
         "med",
         "low",
         "unacc"
        ],
        [
         "vhigh",
         "vhigh",
         "2",
         "2",
         "med",
         "med",
         "unacc"
        ],
        [
         "vhigh",
         "vhigh",
         "2",
         "2",
         "med",
         "high",
         "unacc"
        ],
        [
         "vhigh",
         "vhigh",
         "2",
         "2",
         "big",
         "low",
         "unacc"
        ],
        [
         "vhigh",
         "vhigh",
         "2",
         "2",
         "big",
         "med",
         "unacc"
        ],
        [
         "vhigh",
         "vhigh",
         "2",
         "2",
         "big",
         "high",
         "unacc"
        ],
        [
         "vhigh",
         "vhigh",
         "2",
         "4",
         "small",
         "low",
         "unacc"
        ]
       ],
       "datasetInfos": [],
       "dbfsResultPath": null,
       "isJsonSchema": true,
       "metadata": {},
       "overflow": false,
       "plotOptions": {
        "customPlotOptions": {},
        "displayType": "table",
        "pivotAggregation": null,
        "pivotColumns": null,
        "xColumns": null,
        "yColumns": null
       },
       "removedWidgets": [],
       "schema": [
        {
         "metadata": "{}",
         "name": "_c0",
         "type": "\"string\""
        },
        {
         "metadata": "{}",
         "name": "_c1",
         "type": "\"string\""
        },
        {
         "metadata": "{}",
         "name": "_c2",
         "type": "\"string\""
        },
        {
         "metadata": "{}",
         "name": "_c3",
         "type": "\"string\""
        },
        {
         "metadata": "{}",
         "name": "_c4",
         "type": "\"string\""
        },
        {
         "metadata": "{}",
         "name": "_c5",
         "type": "\"string\""
        },
        {
         "metadata": "{}",
         "name": "_c6",
         "type": "\"string\""
        }
       ],
       "type": "table"
      }
     },
     "output_type": "display_data"
    }
   ],
   "source": [
    "dados.limit(10).display()"
   ]
  },
  {
   "cell_type": "code",
   "execution_count": 0,
   "metadata": {
    "application/vnd.databricks.v1+cell": {
     "cellMetadata": {
      "byteLimit": 2048000,
      "rowLimit": 10000
     },
     "inputWidgets": {},
     "nuid": "50f5b2ca-91f1-43d4-b818-999301b0f10d",
     "showTitle": false,
     "tableResultSettingsMap": {},
     "title": ""
    }
   },
   "outputs": [
    {
     "output_type": "stream",
     "name": "stdout",
     "output_type": "stream",
     "text": [
      "root\n |-- _c0: string (nullable = true)\n |-- _c1: string (nullable = true)\n |-- _c2: string (nullable = true)\n |-- _c3: string (nullable = true)\n |-- _c4: string (nullable = true)\n |-- _c5: string (nullable = true)\n |-- _c6: string (nullable = true)\n\n"
     ]
    }
   ],
   "source": [
    "dados.printSchema()"
   ]
  },
  {
   "cell_type": "markdown",
   "metadata": {
    "application/vnd.databricks.v1+cell": {
     "cellMetadata": {
      "byteLimit": 2048000,
      "rowLimit": 10000
     },
     "inputWidgets": {},
     "nuid": "a70173a2-394b-4721-9ee3-59950e57ace8",
     "showTitle": false,
     "tableResultSettingsMap": {},
     "title": ""
    }
   },
   "source": [
    "## Análise Exploratória:\n",
    "\n",
    "Quantas linhas e quantas colunas o DataFrame de receitas possui?"
   ]
  },
  {
   "cell_type": "code",
   "execution_count": 0,
   "metadata": {
    "application/vnd.databricks.v1+cell": {
     "cellMetadata": {
      "byteLimit": 2048000,
      "rowLimit": 10000
     },
     "inputWidgets": {},
     "nuid": "00801580-223a-4f88-a70e-95f124837264",
     "showTitle": false,
     "tableResultSettingsMap": {},
     "title": ""
    }
   },
   "outputs": [
    {
     "output_type": "stream",
     "name": "stdout",
     "output_type": "stream",
     "text": [
      "['_c0', '_c1', '_c2', '_c3', '_c4', '_c5', '_c6']\n"
     ]
    }
   ],
   "source": [
    "colunas = dados.columns\n",
    "print(colunas)"
   ]
  },
  {
   "cell_type": "code",
   "execution_count": 0,
   "metadata": {
    "application/vnd.databricks.v1+cell": {
     "cellMetadata": {
      "byteLimit": 2048000,
      "rowLimit": 10000
     },
     "inputWidgets": {},
     "nuid": "238327f9-a8f6-4884-ada0-b6b3b202d207",
     "showTitle": false,
     "tableResultSettingsMap": {},
     "title": ""
    }
   },
   "outputs": [
    {
     "output_type": "stream",
     "name": "stdout",
     "output_type": "stream",
     "text": [
      "root\n |-- buying_price: string (nullable = true)\n |-- maintenance_cost: string (nullable = true)\n |-- number_doors: string (nullable = true)\n |-- number_persons: string (nullable = true)\n |-- lug_boot: string (nullable = true)\n |-- safety: string (nullable = true)\n |-- decision: string (nullable = true)\n\n"
     ]
    }
   ],
   "source": [
    "dados = dados.withColumnRenamed(\"_c0\", \"buying_price\") \\\n",
    "             .withColumnRenamed(\"_c1\", \"maintenance_cost\") \\\n",
    "             .withColumnRenamed(\"_c2\", \"number_doors\") \\\n",
    "             .withColumnRenamed(\"_c3\", \"number_persons\") \\\n",
    "             .withColumnRenamed(\"_c4\", \"lug_boot\") \\\n",
    "             .withColumnRenamed(\"_c5\", \"safety\") \\\n",
    "             .withColumnRenamed(\"_c6\", \"decision\")\n",
    "\n",
    "# Verifique se os nomes foram alterados\n",
    "dados.printSchema()\n"
   ]
  },
  {
   "cell_type": "code",
   "execution_count": 0,
   "metadata": {
    "application/vnd.databricks.v1+cell": {
     "cellMetadata": {
      "byteLimit": 2048000,
      "rowLimit": 10000
     },
     "inputWidgets": {},
     "nuid": "41695564-05b4-42bf-a436-8ed17712825f",
     "showTitle": false,
     "tableResultSettingsMap": {},
     "title": ""
    }
   },
   "outputs": [
    {
     "output_type": "display_data",
     "data": {
      "text/html": [
       "<style scoped>\n",
       "  .table-result-container {\n",
       "    max-height: 300px;\n",
       "    overflow: auto;\n",
       "  }\n",
       "  table, th, td {\n",
       "    border: 1px solid black;\n",
       "    border-collapse: collapse;\n",
       "  }\n",
       "  th, td {\n",
       "    padding: 5px;\n",
       "  }\n",
       "  th {\n",
       "    text-align: left;\n",
       "  }\n",
       "</style><div class='table-result-container'><table class='table-result'><thead style='background-color: white'><tr><th>buying_price</th><th>maintenance_cost</th><th>number_doors</th><th>number_persons</th><th>lug_boot</th><th>safety</th><th>decision</th></tr></thead><tbody><tr><td>vhigh</td><td>vhigh</td><td>2</td><td>2</td><td>small</td><td>low</td><td>unacc</td></tr><tr><td>vhigh</td><td>vhigh</td><td>2</td><td>2</td><td>small</td><td>med</td><td>unacc</td></tr><tr><td>vhigh</td><td>vhigh</td><td>2</td><td>2</td><td>small</td><td>high</td><td>unacc</td></tr><tr><td>vhigh</td><td>vhigh</td><td>2</td><td>2</td><td>med</td><td>low</td><td>unacc</td></tr><tr><td>vhigh</td><td>vhigh</td><td>2</td><td>2</td><td>med</td><td>med</td><td>unacc</td></tr><tr><td>vhigh</td><td>vhigh</td><td>2</td><td>2</td><td>med</td><td>high</td><td>unacc</td></tr><tr><td>vhigh</td><td>vhigh</td><td>2</td><td>2</td><td>big</td><td>low</td><td>unacc</td></tr><tr><td>vhigh</td><td>vhigh</td><td>2</td><td>2</td><td>big</td><td>med</td><td>unacc</td></tr><tr><td>vhigh</td><td>vhigh</td><td>2</td><td>2</td><td>big</td><td>high</td><td>unacc</td></tr><tr><td>vhigh</td><td>vhigh</td><td>2</td><td>4</td><td>small</td><td>low</td><td>unacc</td></tr><tr><td>vhigh</td><td>vhigh</td><td>2</td><td>4</td><td>small</td><td>med</td><td>unacc</td></tr><tr><td>vhigh</td><td>vhigh</td><td>2</td><td>4</td><td>small</td><td>high</td><td>unacc</td></tr><tr><td>vhigh</td><td>vhigh</td><td>2</td><td>4</td><td>med</td><td>low</td><td>unacc</td></tr><tr><td>vhigh</td><td>vhigh</td><td>2</td><td>4</td><td>med</td><td>med</td><td>unacc</td></tr><tr><td>vhigh</td><td>vhigh</td><td>2</td><td>4</td><td>med</td><td>high</td><td>unacc</td></tr><tr><td>vhigh</td><td>vhigh</td><td>2</td><td>4</td><td>big</td><td>low</td><td>unacc</td></tr><tr><td>vhigh</td><td>vhigh</td><td>2</td><td>4</td><td>big</td><td>med</td><td>unacc</td></tr><tr><td>vhigh</td><td>vhigh</td><td>2</td><td>4</td><td>big</td><td>high</td><td>unacc</td></tr><tr><td>vhigh</td><td>vhigh</td><td>2</td><td>more</td><td>small</td><td>low</td><td>unacc</td></tr><tr><td>vhigh</td><td>vhigh</td><td>2</td><td>more</td><td>small</td><td>med</td><td>unacc</td></tr><tr><td>vhigh</td><td>vhigh</td><td>2</td><td>more</td><td>small</td><td>high</td><td>unacc</td></tr><tr><td>vhigh</td><td>vhigh</td><td>2</td><td>more</td><td>med</td><td>low</td><td>unacc</td></tr><tr><td>vhigh</td><td>vhigh</td><td>2</td><td>more</td><td>med</td><td>med</td><td>unacc</td></tr><tr><td>vhigh</td><td>vhigh</td><td>2</td><td>more</td><td>med</td><td>high</td><td>unacc</td></tr><tr><td>vhigh</td><td>vhigh</td><td>2</td><td>more</td><td>big</td><td>low</td><td>unacc</td></tr><tr><td>vhigh</td><td>vhigh</td><td>2</td><td>more</td><td>big</td><td>med</td><td>unacc</td></tr><tr><td>vhigh</td><td>vhigh</td><td>2</td><td>more</td><td>big</td><td>high</td><td>unacc</td></tr><tr><td>vhigh</td><td>vhigh</td><td>3</td><td>2</td><td>small</td><td>low</td><td>unacc</td></tr><tr><td>vhigh</td><td>vhigh</td><td>3</td><td>2</td><td>small</td><td>med</td><td>unacc</td></tr><tr><td>vhigh</td><td>vhigh</td><td>3</td><td>2</td><td>small</td><td>high</td><td>unacc</td></tr><tr><td>vhigh</td><td>vhigh</td><td>3</td><td>2</td><td>med</td><td>low</td><td>unacc</td></tr><tr><td>vhigh</td><td>vhigh</td><td>3</td><td>2</td><td>med</td><td>med</td><td>unacc</td></tr><tr><td>vhigh</td><td>vhigh</td><td>3</td><td>2</td><td>med</td><td>high</td><td>unacc</td></tr><tr><td>vhigh</td><td>vhigh</td><td>3</td><td>2</td><td>big</td><td>low</td><td>unacc</td></tr><tr><td>vhigh</td><td>vhigh</td><td>3</td><td>2</td><td>big</td><td>med</td><td>unacc</td></tr><tr><td>vhigh</td><td>vhigh</td><td>3</td><td>2</td><td>big</td><td>high</td><td>unacc</td></tr><tr><td>vhigh</td><td>vhigh</td><td>3</td><td>4</td><td>small</td><td>low</td><td>unacc</td></tr><tr><td>vhigh</td><td>vhigh</td><td>3</td><td>4</td><td>small</td><td>med</td><td>unacc</td></tr><tr><td>vhigh</td><td>vhigh</td><td>3</td><td>4</td><td>small</td><td>high</td><td>unacc</td></tr><tr><td>vhigh</td><td>vhigh</td><td>3</td><td>4</td><td>med</td><td>low</td><td>unacc</td></tr><tr><td>vhigh</td><td>vhigh</td><td>3</td><td>4</td><td>med</td><td>med</td><td>unacc</td></tr><tr><td>vhigh</td><td>vhigh</td><td>3</td><td>4</td><td>med</td><td>high</td><td>unacc</td></tr><tr><td>vhigh</td><td>vhigh</td><td>3</td><td>4</td><td>big</td><td>low</td><td>unacc</td></tr><tr><td>vhigh</td><td>vhigh</td><td>3</td><td>4</td><td>big</td><td>med</td><td>unacc</td></tr><tr><td>vhigh</td><td>vhigh</td><td>3</td><td>4</td><td>big</td><td>high</td><td>unacc</td></tr><tr><td>vhigh</td><td>vhigh</td><td>3</td><td>more</td><td>small</td><td>low</td><td>unacc</td></tr><tr><td>vhigh</td><td>vhigh</td><td>3</td><td>more</td><td>small</td><td>med</td><td>unacc</td></tr><tr><td>vhigh</td><td>vhigh</td><td>3</td><td>more</td><td>small</td><td>high</td><td>unacc</td></tr><tr><td>vhigh</td><td>vhigh</td><td>3</td><td>more</td><td>med</td><td>low</td><td>unacc</td></tr><tr><td>vhigh</td><td>vhigh</td><td>3</td><td>more</td><td>med</td><td>med</td><td>unacc</td></tr><tr><td>vhigh</td><td>vhigh</td><td>3</td><td>more</td><td>med</td><td>high</td><td>unacc</td></tr><tr><td>vhigh</td><td>vhigh</td><td>3</td><td>more</td><td>big</td><td>low</td><td>unacc</td></tr><tr><td>vhigh</td><td>vhigh</td><td>3</td><td>more</td><td>big</td><td>med</td><td>unacc</td></tr><tr><td>vhigh</td><td>vhigh</td><td>3</td><td>more</td><td>big</td><td>high</td><td>unacc</td></tr><tr><td>vhigh</td><td>vhigh</td><td>4</td><td>2</td><td>small</td><td>low</td><td>unacc</td></tr><tr><td>vhigh</td><td>vhigh</td><td>4</td><td>2</td><td>small</td><td>med</td><td>unacc</td></tr><tr><td>vhigh</td><td>vhigh</td><td>4</td><td>2</td><td>small</td><td>high</td><td>unacc</td></tr><tr><td>vhigh</td><td>vhigh</td><td>4</td><td>2</td><td>med</td><td>low</td><td>unacc</td></tr><tr><td>vhigh</td><td>vhigh</td><td>4</td><td>2</td><td>med</td><td>med</td><td>unacc</td></tr><tr><td>vhigh</td><td>vhigh</td><td>4</td><td>2</td><td>med</td><td>high</td><td>unacc</td></tr><tr><td>vhigh</td><td>vhigh</td><td>4</td><td>2</td><td>big</td><td>low</td><td>unacc</td></tr><tr><td>vhigh</td><td>vhigh</td><td>4</td><td>2</td><td>big</td><td>med</td><td>unacc</td></tr><tr><td>vhigh</td><td>vhigh</td><td>4</td><td>2</td><td>big</td><td>high</td><td>unacc</td></tr><tr><td>vhigh</td><td>vhigh</td><td>4</td><td>4</td><td>small</td><td>low</td><td>unacc</td></tr><tr><td>vhigh</td><td>vhigh</td><td>4</td><td>4</td><td>small</td><td>med</td><td>unacc</td></tr><tr><td>vhigh</td><td>vhigh</td><td>4</td><td>4</td><td>small</td><td>high</td><td>unacc</td></tr><tr><td>vhigh</td><td>vhigh</td><td>4</td><td>4</td><td>med</td><td>low</td><td>unacc</td></tr><tr><td>vhigh</td><td>vhigh</td><td>4</td><td>4</td><td>med</td><td>med</td><td>unacc</td></tr><tr><td>vhigh</td><td>vhigh</td><td>4</td><td>4</td><td>med</td><td>high</td><td>unacc</td></tr><tr><td>vhigh</td><td>vhigh</td><td>4</td><td>4</td><td>big</td><td>low</td><td>unacc</td></tr><tr><td>vhigh</td><td>vhigh</td><td>4</td><td>4</td><td>big</td><td>med</td><td>unacc</td></tr><tr><td>vhigh</td><td>vhigh</td><td>4</td><td>4</td><td>big</td><td>high</td><td>unacc</td></tr><tr><td>vhigh</td><td>vhigh</td><td>4</td><td>more</td><td>small</td><td>low</td><td>unacc</td></tr><tr><td>vhigh</td><td>vhigh</td><td>4</td><td>more</td><td>small</td><td>med</td><td>unacc</td></tr><tr><td>vhigh</td><td>vhigh</td><td>4</td><td>more</td><td>small</td><td>high</td><td>unacc</td></tr><tr><td>vhigh</td><td>vhigh</td><td>4</td><td>more</td><td>med</td><td>low</td><td>unacc</td></tr><tr><td>vhigh</td><td>vhigh</td><td>4</td><td>more</td><td>med</td><td>med</td><td>unacc</td></tr><tr><td>vhigh</td><td>vhigh</td><td>4</td><td>more</td><td>med</td><td>high</td><td>unacc</td></tr><tr><td>vhigh</td><td>vhigh</td><td>4</td><td>more</td><td>big</td><td>low</td><td>unacc</td></tr><tr><td>vhigh</td><td>vhigh</td><td>4</td><td>more</td><td>big</td><td>med</td><td>unacc</td></tr><tr><td>vhigh</td><td>vhigh</td><td>4</td><td>more</td><td>big</td><td>high</td><td>unacc</td></tr><tr><td>vhigh</td><td>vhigh</td><td>5more</td><td>2</td><td>small</td><td>low</td><td>unacc</td></tr><tr><td>vhigh</td><td>vhigh</td><td>5more</td><td>2</td><td>small</td><td>med</td><td>unacc</td></tr><tr><td>vhigh</td><td>vhigh</td><td>5more</td><td>2</td><td>small</td><td>high</td><td>unacc</td></tr><tr><td>vhigh</td><td>vhigh</td><td>5more</td><td>2</td><td>med</td><td>low</td><td>unacc</td></tr><tr><td>vhigh</td><td>vhigh</td><td>5more</td><td>2</td><td>med</td><td>med</td><td>unacc</td></tr><tr><td>vhigh</td><td>vhigh</td><td>5more</td><td>2</td><td>med</td><td>high</td><td>unacc</td></tr><tr><td>vhigh</td><td>vhigh</td><td>5more</td><td>2</td><td>big</td><td>low</td><td>unacc</td></tr><tr><td>vhigh</td><td>vhigh</td><td>5more</td><td>2</td><td>big</td><td>med</td><td>unacc</td></tr><tr><td>vhigh</td><td>vhigh</td><td>5more</td><td>2</td><td>big</td><td>high</td><td>unacc</td></tr><tr><td>vhigh</td><td>vhigh</td><td>5more</td><td>4</td><td>small</td><td>low</td><td>unacc</td></tr><tr><td>vhigh</td><td>vhigh</td><td>5more</td><td>4</td><td>small</td><td>med</td><td>unacc</td></tr><tr><td>vhigh</td><td>vhigh</td><td>5more</td><td>4</td><td>small</td><td>high</td><td>unacc</td></tr><tr><td>vhigh</td><td>vhigh</td><td>5more</td><td>4</td><td>med</td><td>low</td><td>unacc</td></tr><tr><td>vhigh</td><td>vhigh</td><td>5more</td><td>4</td><td>med</td><td>med</td><td>unacc</td></tr><tr><td>vhigh</td><td>vhigh</td><td>5more</td><td>4</td><td>med</td><td>high</td><td>unacc</td></tr><tr><td>vhigh</td><td>vhigh</td><td>5more</td><td>4</td><td>big</td><td>low</td><td>unacc</td></tr><tr><td>vhigh</td><td>vhigh</td><td>5more</td><td>4</td><td>big</td><td>med</td><td>unacc</td></tr><tr><td>vhigh</td><td>vhigh</td><td>5more</td><td>4</td><td>big</td><td>high</td><td>unacc</td></tr><tr><td>vhigh</td><td>vhigh</td><td>5more</td><td>more</td><td>small</td><td>low</td><td>unacc</td></tr></tbody></table></div>"
      ]
     },
     "metadata": {
      "application/vnd.databricks.v1+output": {
       "addedWidgets": {},
       "aggData": [],
       "aggError": "",
       "aggOverflow": false,
       "aggSchema": [],
       "aggSeriesLimitReached": false,
       "aggType": "",
       "arguments": {},
       "columnCustomDisplayInfos": {},
       "data": [
        [
         "vhigh",
         "vhigh",
         "2",
         "2",
         "small",
         "low",
         "unacc"
        ],
        [
         "vhigh",
         "vhigh",
         "2",
         "2",
         "small",
         "med",
         "unacc"
        ],
        [
         "vhigh",
         "vhigh",
         "2",
         "2",
         "small",
         "high",
         "unacc"
        ],
        [
         "vhigh",
         "vhigh",
         "2",
         "2",
         "med",
         "low",
         "unacc"
        ],
        [
         "vhigh",
         "vhigh",
         "2",
         "2",
         "med",
         "med",
         "unacc"
        ],
        [
         "vhigh",
         "vhigh",
         "2",
         "2",
         "med",
         "high",
         "unacc"
        ],
        [
         "vhigh",
         "vhigh",
         "2",
         "2",
         "big",
         "low",
         "unacc"
        ],
        [
         "vhigh",
         "vhigh",
         "2",
         "2",
         "big",
         "med",
         "unacc"
        ],
        [
         "vhigh",
         "vhigh",
         "2",
         "2",
         "big",
         "high",
         "unacc"
        ],
        [
         "vhigh",
         "vhigh",
         "2",
         "4",
         "small",
         "low",
         "unacc"
        ],
        [
         "vhigh",
         "vhigh",
         "2",
         "4",
         "small",
         "med",
         "unacc"
        ],
        [
         "vhigh",
         "vhigh",
         "2",
         "4",
         "small",
         "high",
         "unacc"
        ],
        [
         "vhigh",
         "vhigh",
         "2",
         "4",
         "med",
         "low",
         "unacc"
        ],
        [
         "vhigh",
         "vhigh",
         "2",
         "4",
         "med",
         "med",
         "unacc"
        ],
        [
         "vhigh",
         "vhigh",
         "2",
         "4",
         "med",
         "high",
         "unacc"
        ],
        [
         "vhigh",
         "vhigh",
         "2",
         "4",
         "big",
         "low",
         "unacc"
        ],
        [
         "vhigh",
         "vhigh",
         "2",
         "4",
         "big",
         "med",
         "unacc"
        ],
        [
         "vhigh",
         "vhigh",
         "2",
         "4",
         "big",
         "high",
         "unacc"
        ],
        [
         "vhigh",
         "vhigh",
         "2",
         "more",
         "small",
         "low",
         "unacc"
        ],
        [
         "vhigh",
         "vhigh",
         "2",
         "more",
         "small",
         "med",
         "unacc"
        ],
        [
         "vhigh",
         "vhigh",
         "2",
         "more",
         "small",
         "high",
         "unacc"
        ],
        [
         "vhigh",
         "vhigh",
         "2",
         "more",
         "med",
         "low",
         "unacc"
        ],
        [
         "vhigh",
         "vhigh",
         "2",
         "more",
         "med",
         "med",
         "unacc"
        ],
        [
         "vhigh",
         "vhigh",
         "2",
         "more",
         "med",
         "high",
         "unacc"
        ],
        [
         "vhigh",
         "vhigh",
         "2",
         "more",
         "big",
         "low",
         "unacc"
        ],
        [
         "vhigh",
         "vhigh",
         "2",
         "more",
         "big",
         "med",
         "unacc"
        ],
        [
         "vhigh",
         "vhigh",
         "2",
         "more",
         "big",
         "high",
         "unacc"
        ],
        [
         "vhigh",
         "vhigh",
         "3",
         "2",
         "small",
         "low",
         "unacc"
        ],
        [
         "vhigh",
         "vhigh",
         "3",
         "2",
         "small",
         "med",
         "unacc"
        ],
        [
         "vhigh",
         "vhigh",
         "3",
         "2",
         "small",
         "high",
         "unacc"
        ],
        [
         "vhigh",
         "vhigh",
         "3",
         "2",
         "med",
         "low",
         "unacc"
        ],
        [
         "vhigh",
         "vhigh",
         "3",
         "2",
         "med",
         "med",
         "unacc"
        ],
        [
         "vhigh",
         "vhigh",
         "3",
         "2",
         "med",
         "high",
         "unacc"
        ],
        [
         "vhigh",
         "vhigh",
         "3",
         "2",
         "big",
         "low",
         "unacc"
        ],
        [
         "vhigh",
         "vhigh",
         "3",
         "2",
         "big",
         "med",
         "unacc"
        ],
        [
         "vhigh",
         "vhigh",
         "3",
         "2",
         "big",
         "high",
         "unacc"
        ],
        [
         "vhigh",
         "vhigh",
         "3",
         "4",
         "small",
         "low",
         "unacc"
        ],
        [
         "vhigh",
         "vhigh",
         "3",
         "4",
         "small",
         "med",
         "unacc"
        ],
        [
         "vhigh",
         "vhigh",
         "3",
         "4",
         "small",
         "high",
         "unacc"
        ],
        [
         "vhigh",
         "vhigh",
         "3",
         "4",
         "med",
         "low",
         "unacc"
        ],
        [
         "vhigh",
         "vhigh",
         "3",
         "4",
         "med",
         "med",
         "unacc"
        ],
        [
         "vhigh",
         "vhigh",
         "3",
         "4",
         "med",
         "high",
         "unacc"
        ],
        [
         "vhigh",
         "vhigh",
         "3",
         "4",
         "big",
         "low",
         "unacc"
        ],
        [
         "vhigh",
         "vhigh",
         "3",
         "4",
         "big",
         "med",
         "unacc"
        ],
        [
         "vhigh",
         "vhigh",
         "3",
         "4",
         "big",
         "high",
         "unacc"
        ],
        [
         "vhigh",
         "vhigh",
         "3",
         "more",
         "small",
         "low",
         "unacc"
        ],
        [
         "vhigh",
         "vhigh",
         "3",
         "more",
         "small",
         "med",
         "unacc"
        ],
        [
         "vhigh",
         "vhigh",
         "3",
         "more",
         "small",
         "high",
         "unacc"
        ],
        [
         "vhigh",
         "vhigh",
         "3",
         "more",
         "med",
         "low",
         "unacc"
        ],
        [
         "vhigh",
         "vhigh",
         "3",
         "more",
         "med",
         "med",
         "unacc"
        ],
        [
         "vhigh",
         "vhigh",
         "3",
         "more",
         "med",
         "high",
         "unacc"
        ],
        [
         "vhigh",
         "vhigh",
         "3",
         "more",
         "big",
         "low",
         "unacc"
        ],
        [
         "vhigh",
         "vhigh",
         "3",
         "more",
         "big",
         "med",
         "unacc"
        ],
        [
         "vhigh",
         "vhigh",
         "3",
         "more",
         "big",
         "high",
         "unacc"
        ],
        [
         "vhigh",
         "vhigh",
         "4",
         "2",
         "small",
         "low",
         "unacc"
        ],
        [
         "vhigh",
         "vhigh",
         "4",
         "2",
         "small",
         "med",
         "unacc"
        ],
        [
         "vhigh",
         "vhigh",
         "4",
         "2",
         "small",
         "high",
         "unacc"
        ],
        [
         "vhigh",
         "vhigh",
         "4",
         "2",
         "med",
         "low",
         "unacc"
        ],
        [
         "vhigh",
         "vhigh",
         "4",
         "2",
         "med",
         "med",
         "unacc"
        ],
        [
         "vhigh",
         "vhigh",
         "4",
         "2",
         "med",
         "high",
         "unacc"
        ],
        [
         "vhigh",
         "vhigh",
         "4",
         "2",
         "big",
         "low",
         "unacc"
        ],
        [
         "vhigh",
         "vhigh",
         "4",
         "2",
         "big",
         "med",
         "unacc"
        ],
        [
         "vhigh",
         "vhigh",
         "4",
         "2",
         "big",
         "high",
         "unacc"
        ],
        [
         "vhigh",
         "vhigh",
         "4",
         "4",
         "small",
         "low",
         "unacc"
        ],
        [
         "vhigh",
         "vhigh",
         "4",
         "4",
         "small",
         "med",
         "unacc"
        ],
        [
         "vhigh",
         "vhigh",
         "4",
         "4",
         "small",
         "high",
         "unacc"
        ],
        [
         "vhigh",
         "vhigh",
         "4",
         "4",
         "med",
         "low",
         "unacc"
        ],
        [
         "vhigh",
         "vhigh",
         "4",
         "4",
         "med",
         "med",
         "unacc"
        ],
        [
         "vhigh",
         "vhigh",
         "4",
         "4",
         "med",
         "high",
         "unacc"
        ],
        [
         "vhigh",
         "vhigh",
         "4",
         "4",
         "big",
         "low",
         "unacc"
        ],
        [
         "vhigh",
         "vhigh",
         "4",
         "4",
         "big",
         "med",
         "unacc"
        ],
        [
         "vhigh",
         "vhigh",
         "4",
         "4",
         "big",
         "high",
         "unacc"
        ],
        [
         "vhigh",
         "vhigh",
         "4",
         "more",
         "small",
         "low",
         "unacc"
        ],
        [
         "vhigh",
         "vhigh",
         "4",
         "more",
         "small",
         "med",
         "unacc"
        ],
        [
         "vhigh",
         "vhigh",
         "4",
         "more",
         "small",
         "high",
         "unacc"
        ],
        [
         "vhigh",
         "vhigh",
         "4",
         "more",
         "med",
         "low",
         "unacc"
        ],
        [
         "vhigh",
         "vhigh",
         "4",
         "more",
         "med",
         "med",
         "unacc"
        ],
        [
         "vhigh",
         "vhigh",
         "4",
         "more",
         "med",
         "high",
         "unacc"
        ],
        [
         "vhigh",
         "vhigh",
         "4",
         "more",
         "big",
         "low",
         "unacc"
        ],
        [
         "vhigh",
         "vhigh",
         "4",
         "more",
         "big",
         "med",
         "unacc"
        ],
        [
         "vhigh",
         "vhigh",
         "4",
         "more",
         "big",
         "high",
         "unacc"
        ],
        [
         "vhigh",
         "vhigh",
         "5more",
         "2",
         "small",
         "low",
         "unacc"
        ],
        [
         "vhigh",
         "vhigh",
         "5more",
         "2",
         "small",
         "med",
         "unacc"
        ],
        [
         "vhigh",
         "vhigh",
         "5more",
         "2",
         "small",
         "high",
         "unacc"
        ],
        [
         "vhigh",
         "vhigh",
         "5more",
         "2",
         "med",
         "low",
         "unacc"
        ],
        [
         "vhigh",
         "vhigh",
         "5more",
         "2",
         "med",
         "med",
         "unacc"
        ],
        [
         "vhigh",
         "vhigh",
         "5more",
         "2",
         "med",
         "high",
         "unacc"
        ],
        [
         "vhigh",
         "vhigh",
         "5more",
         "2",
         "big",
         "low",
         "unacc"
        ],
        [
         "vhigh",
         "vhigh",
         "5more",
         "2",
         "big",
         "med",
         "unacc"
        ],
        [
         "vhigh",
         "vhigh",
         "5more",
         "2",
         "big",
         "high",
         "unacc"
        ],
        [
         "vhigh",
         "vhigh",
         "5more",
         "4",
         "small",
         "low",
         "unacc"
        ],
        [
         "vhigh",
         "vhigh",
         "5more",
         "4",
         "small",
         "med",
         "unacc"
        ],
        [
         "vhigh",
         "vhigh",
         "5more",
         "4",
         "small",
         "high",
         "unacc"
        ],
        [
         "vhigh",
         "vhigh",
         "5more",
         "4",
         "med",
         "low",
         "unacc"
        ],
        [
         "vhigh",
         "vhigh",
         "5more",
         "4",
         "med",
         "med",
         "unacc"
        ],
        [
         "vhigh",
         "vhigh",
         "5more",
         "4",
         "med",
         "high",
         "unacc"
        ],
        [
         "vhigh",
         "vhigh",
         "5more",
         "4",
         "big",
         "low",
         "unacc"
        ],
        [
         "vhigh",
         "vhigh",
         "5more",
         "4",
         "big",
         "med",
         "unacc"
        ],
        [
         "vhigh",
         "vhigh",
         "5more",
         "4",
         "big",
         "high",
         "unacc"
        ],
        [
         "vhigh",
         "vhigh",
         "5more",
         "more",
         "small",
         "low",
         "unacc"
        ]
       ],
       "datasetInfos": [],
       "dbfsResultPath": null,
       "isJsonSchema": true,
       "metadata": {},
       "overflow": false,
       "plotOptions": {
        "customPlotOptions": {},
        "displayType": "table",
        "pivotAggregation": null,
        "pivotColumns": null,
        "xColumns": null,
        "yColumns": null
       },
       "removedWidgets": [],
       "schema": [
        {
         "metadata": "{}",
         "name": "buying_price",
         "type": "\"string\""
        },
        {
         "metadata": "{}",
         "name": "maintenance_cost",
         "type": "\"string\""
        },
        {
         "metadata": "{}",
         "name": "number_doors",
         "type": "\"string\""
        },
        {
         "metadata": "{}",
         "name": "number_persons",
         "type": "\"string\""
        },
        {
         "metadata": "{}",
         "name": "lug_boot",
         "type": "\"string\""
        },
        {
         "metadata": "{}",
         "name": "safety",
         "type": "\"string\""
        },
        {
         "metadata": "{}",
         "name": "decision",
         "type": "\"string\""
        }
       ],
       "type": "table"
      }
     },
     "output_type": "display_data"
    }
   ],
   "source": [
    "dados.limit(100).display()"
   ]
  },
  {
   "cell_type": "code",
   "execution_count": 0,
   "metadata": {
    "application/vnd.databricks.v1+cell": {
     "cellMetadata": {
      "byteLimit": 2048000,
      "rowLimit": 10000
     },
     "inputWidgets": {},
     "nuid": "83f120d6-7c3b-4543-a253-5021bccc9eb1",
     "showTitle": false,
     "tableResultSettingsMap": {},
     "title": ""
    }
   },
   "outputs": [
    {
     "output_type": "stream",
     "name": "stdout",
     "output_type": "stream",
     "text": [
      "1728 linhas e 7 colunas\n"
     ]
    }
   ],
   "source": [
    "print(\"{} linhas e {} colunas\".format(dados.count(), len(dados.columns)))"
   ]
  },
  {
   "cell_type": "markdown",
   "metadata": {
    "application/vnd.databricks.v1+cell": {
     "cellMetadata": {
      "byteLimit": 2048000,
      "rowLimit": 10000
     },
     "inputWidgets": {},
     "nuid": "a8521369-b551-453e-8657-ece068279986",
     "showTitle": false,
     "tableResultSettingsMap": {},
     "title": ""
    }
   },
   "source": [
    "## Preço de Compra"
   ]
  },
  {
   "cell_type": "code",
   "execution_count": 0,
   "metadata": {
    "application/vnd.databricks.v1+cell": {
     "cellMetadata": {
      "byteLimit": 2048000,
      "rowLimit": 10000
     },
     "inputWidgets": {},
     "nuid": "1324cf79-927e-4278-887a-b29f8496f663",
     "showTitle": false,
     "tableResultSettingsMap": {},
     "title": ""
    }
   },
   "outputs": [
    {
     "output_type": "display_data",
     "data": {
      "text/html": [
       "<style scoped>\n",
       "  .table-result-container {\n",
       "    max-height: 300px;\n",
       "    overflow: auto;\n",
       "  }\n",
       "  table, th, td {\n",
       "    border: 1px solid black;\n",
       "    border-collapse: collapse;\n",
       "  }\n",
       "  th, td {\n",
       "    padding: 5px;\n",
       "  }\n",
       "  th {\n",
       "    text-align: left;\n",
       "  }\n",
       "</style><div class='table-result-container'><table class='table-result'><thead style='background-color: white'><tr><th>buying_price</th><th>count</th></tr></thead><tbody><tr><td>low</td><td>432</td></tr><tr><td>vhigh</td><td>432</td></tr><tr><td>med</td><td>432</td></tr><tr><td>high</td><td>432</td></tr></tbody></table></div>"
      ]
     },
     "metadata": {
      "application/vnd.databricks.v1+output": {
       "addedWidgets": {},
       "aggData": [],
       "aggError": "",
       "aggOverflow": false,
       "aggSchema": [],
       "aggSeriesLimitReached": false,
       "aggType": "",
       "arguments": {},
       "columnCustomDisplayInfos": {},
       "data": [
        [
         "low",
         432
        ],
        [
         "vhigh",
         432
        ],
        [
         "med",
         432
        ],
        [
         "high",
         432
        ]
       ],
       "datasetInfos": [],
       "dbfsResultPath": null,
       "isJsonSchema": true,
       "metadata": {},
       "overflow": false,
       "plotOptions": {
        "customPlotOptions": {},
        "displayType": "table",
        "pivotAggregation": null,
        "pivotColumns": null,
        "xColumns": null,
        "yColumns": null
       },
       "removedWidgets": [],
       "schema": [
        {
         "metadata": "{}",
         "name": "buying_price",
         "type": "\"string\""
        },
        {
         "metadata": "{}",
         "name": "count",
         "type": "\"long\""
        }
       ],
       "type": "table"
      }
     },
     "output_type": "display_data"
    }
   ],
   "source": [
    "dados.groupBy(\"buying_price\").count().display()\n"
   ]
  },
  {
   "cell_type": "code",
   "execution_count": 0,
   "metadata": {
    "application/vnd.databricks.v1+cell": {
     "cellMetadata": {
      "byteLimit": 2048000,
      "rowLimit": 10000
     },
     "inputWidgets": {},
     "nuid": "052d1fef-decb-41d9-a94b-572b3cba4154",
     "showTitle": false,
     "tableResultSettingsMap": {},
     "title": ""
    }
   },
   "outputs": [],
   "source": [
    "#"
   ]
  }
 ],
 "metadata": {
  "application/vnd.databricks.v1+notebook": {
   "dashboards": [],
   "environmentMetadata": {
    "base_environment": "",
    "client": "1"
   },
   "language": "python",
   "notebookMetadata": {
    "pythonIndentUnit": 4
   },
   "notebookName": "projeto",
   "widgets": {}
  },
  "language_info": {
   "name": "python"
  }
 },
 "nbformat": 4,
 "nbformat_minor": 0
}
