{
 "cells": [
  {
   "cell_type": "markdown",
   "metadata": {
    "application/vnd.databricks.v1+cell": {
     "cellMetadata": {
      "byteLimit": 2048000,
      "rowLimit": 10000
     },
     "inputWidgets": {},
     "nuid": "7026c3e6-dd82-44b8-a383-ef4866e1a8bc",
     "showTitle": false,
     "tableResultSettingsMap": {},
     "title": ""
    }
   },
   "source": [
    "# Projeto Big Data para dados públicos 2024.2\n",
    "### Julia Diniz\n",
    "### Armando Roque Neto\n",
    "### Ricardo Wurzmann\n"
   ]
  },
  {
   "cell_type": "code",
   "execution_count": 0,
   "metadata": {
    "application/vnd.databricks.v1+cell": {
     "cellMetadata": {
      "byteLimit": 2048000,
      "rowLimit": 10000
     },
     "inputWidgets": {},
     "nuid": "8abce99c-ec04-4fce-b3a1-a01ebd6276ff",
     "showTitle": false,
     "tableResultSettingsMap": {},
     "title": ""
    }
   },
   "outputs": [],
   "source": [
    "import pyspark.sql.functions as func"
   ]
  },
  {
   "cell_type": "code",
   "execution_count": 0,
   "metadata": {
    "application/vnd.databricks.v1+cell": {
     "cellMetadata": {
      "byteLimit": 2048000,
      "rowLimit": 10000
     },
     "inputWidgets": {},
     "nuid": "2e709446-5946-4c81-b09e-3f1e6ab91931",
     "showTitle": false,
     "tableResultSettingsMap": {},
     "title": ""
    }
   },
   "outputs": [],
   "source": [
    "dados = spark.read.csv(\"s3://bigdata-rais/projeto/ricardow3/car_evaluation.csv\")\n"
   ]
  },
  {
   "cell_type": "code",
   "execution_count": 0,
   "metadata": {
    "application/vnd.databricks.v1+cell": {
     "cellMetadata": {
      "byteLimit": 2048000,
      "rowLimit": 10000
     },
     "inputWidgets": {},
     "nuid": "90f92e8b-ec11-46e4-98c1-714a2b40f51f",
     "showTitle": false,
     "tableResultSettingsMap": {},
     "title": ""
    }
   },
   "outputs": [
    {
     "output_type": "display_data",
     "data": {
      "text/html": [
       "<style scoped>\n",
       "  .table-result-container {\n",
       "    max-height: 300px;\n",
       "    overflow: auto;\n",
       "  }\n",
       "  table, th, td {\n",
       "    border: 1px solid black;\n",
       "    border-collapse: collapse;\n",
       "  }\n",
       "  th, td {\n",
       "    padding: 5px;\n",
       "  }\n",
       "  th {\n",
       "    text-align: left;\n",
       "  }\n",
       "</style><div class='table-result-container'><table class='table-result'><thead style='background-color: white'><tr><th>_c0</th><th>_c1</th><th>_c2</th><th>_c3</th><th>_c4</th><th>_c5</th><th>_c6</th></tr></thead><tbody><tr><td>vhigh</td><td>vhigh</td><td>2</td><td>2</td><td>small</td><td>low</td><td>unacc</td></tr><tr><td>vhigh</td><td>vhigh</td><td>2</td><td>2</td><td>small</td><td>med</td><td>unacc</td></tr><tr><td>vhigh</td><td>vhigh</td><td>2</td><td>2</td><td>small</td><td>high</td><td>unacc</td></tr><tr><td>vhigh</td><td>vhigh</td><td>2</td><td>2</td><td>med</td><td>low</td><td>unacc</td></tr><tr><td>vhigh</td><td>vhigh</td><td>2</td><td>2</td><td>med</td><td>med</td><td>unacc</td></tr></tbody></table></div>"
      ]
     },
     "metadata": {
      "application/vnd.databricks.v1+output": {
       "addedWidgets": {},
       "aggData": [],
       "aggError": "",
       "aggOverflow": false,
       "aggSchema": [],
       "aggSeriesLimitReached": false,
       "aggType": "",
       "arguments": {},
       "columnCustomDisplayInfos": {},
       "data": [
        [
         "vhigh",
         "vhigh",
         "2",
         "2",
         "small",
         "low",
         "unacc"
        ],
        [
         "vhigh",
         "vhigh",
         "2",
         "2",
         "small",
         "med",
         "unacc"
        ],
        [
         "vhigh",
         "vhigh",
         "2",
         "2",
         "small",
         "high",
         "unacc"
        ],
        [
         "vhigh",
         "vhigh",
         "2",
         "2",
         "med",
         "low",
         "unacc"
        ],
        [
         "vhigh",
         "vhigh",
         "2",
         "2",
         "med",
         "med",
         "unacc"
        ]
       ],
       "datasetInfos": [],
       "dbfsResultPath": null,
       "isJsonSchema": true,
       "metadata": {},
       "overflow": false,
       "plotOptions": {
        "customPlotOptions": {},
        "displayType": "table",
        "pivotAggregation": null,
        "pivotColumns": null,
        "xColumns": null,
        "yColumns": null
       },
       "removedWidgets": [],
       "schema": [
        {
         "metadata": "{}",
         "name": "_c0",
         "type": "\"string\""
        },
        {
         "metadata": "{}",
         "name": "_c1",
         "type": "\"string\""
        },
        {
         "metadata": "{}",
         "name": "_c2",
         "type": "\"string\""
        },
        {
         "metadata": "{}",
         "name": "_c3",
         "type": "\"string\""
        },
        {
         "metadata": "{}",
         "name": "_c4",
         "type": "\"string\""
        },
        {
         "metadata": "{}",
         "name": "_c5",
         "type": "\"string\""
        },
        {
         "metadata": "{}",
         "name": "_c6",
         "type": "\"string\""
        }
       ],
       "type": "table"
      }
     },
     "output_type": "display_data"
    }
   ],
   "source": [
    "dados.limit(5).display()"
   ]
  },
  {
   "cell_type": "code",
   "execution_count": 0,
   "metadata": {
    "application/vnd.databricks.v1+cell": {
     "cellMetadata": {
      "byteLimit": 2048000,
      "rowLimit": 10000
     },
     "inputWidgets": {},
     "nuid": "50f5b2ca-91f1-43d4-b818-999301b0f10d",
     "showTitle": false,
     "tableResultSettingsMap": {},
     "title": ""
    }
   },
   "outputs": [
    {
     "output_type": "stream",
     "name": "stdout",
     "output_type": "stream",
     "text": [
      "root\n |-- _c0: string (nullable = true)\n |-- _c1: string (nullable = true)\n |-- _c2: string (nullable = true)\n |-- _c3: string (nullable = true)\n |-- _c4: string (nullable = true)\n |-- _c5: string (nullable = true)\n |-- _c6: string (nullable = true)\n\n"
     ]
    }
   ],
   "source": [
    "dados.printSchema()"
   ]
  },
  {
   "cell_type": "markdown",
   "metadata": {
    "application/vnd.databricks.v1+cell": {
     "cellMetadata": {
      "byteLimit": 2048000,
      "rowLimit": 10000
     },
     "inputWidgets": {},
     "nuid": "a70173a2-394b-4721-9ee3-59950e57ace8",
     "showTitle": false,
     "tableResultSettingsMap": {},
     "title": ""
    }
   },
   "source": [
    "## Análise Exploratória:\n",
    "\n",
    "Quantas linhas e quantas colunas o DataFrame de receitas possui?"
   ]
  },
  {
   "cell_type": "code",
   "execution_count": 0,
   "metadata": {
    "application/vnd.databricks.v1+cell": {
     "cellMetadata": {
      "byteLimit": 2048000,
      "rowLimit": 10000
     },
     "inputWidgets": {},
     "nuid": "00801580-223a-4f88-a70e-95f124837264",
     "showTitle": false,
     "tableResultSettingsMap": {},
     "title": ""
    }
   },
   "outputs": [
    {
     "output_type": "stream",
     "name": "stdout",
     "output_type": "stream",
     "text": [
      "['_c0', '_c1', '_c2', '_c3', '_c4', '_c5', '_c6']\n"
     ]
    }
   ],
   "source": [
    "colunas = dados.columns\n",
    "print(colunas)"
   ]
  },
  {
   "cell_type": "code",
   "execution_count": 0,
   "metadata": {
    "application/vnd.databricks.v1+cell": {
     "cellMetadata": {
      "byteLimit": 2048000,
      "rowLimit": 10000
     },
     "inputWidgets": {},
     "nuid": "238327f9-a8f6-4884-ada0-b6b3b202d207",
     "showTitle": false,
     "tableResultSettingsMap": {},
     "title": ""
    }
   },
   "outputs": [
    {
     "output_type": "stream",
     "name": "stdout",
     "output_type": "stream",
     "text": [
      "root\n |-- buying_price: string (nullable = true)\n |-- maintenance_cost: string (nullable = true)\n |-- number_doors: string (nullable = true)\n |-- number_persons: string (nullable = true)\n |-- lug_boot: string (nullable = true)\n |-- safety: string (nullable = true)\n |-- decision: string (nullable = true)\n\n"
     ]
    }
   ],
   "source": [
    "dados = dados.withColumnRenamed(\"_c0\", \"buying_price\") \\\n",
    "             .withColumnRenamed(\"_c1\", \"maintenance_cost\") \\\n",
    "             .withColumnRenamed(\"_c2\", \"number_doors\") \\\n",
    "             .withColumnRenamed(\"_c3\", \"number_persons\") \\\n",
    "             .withColumnRenamed(\"_c4\", \"lug_boot\") \\\n",
    "             .withColumnRenamed(\"_c5\", \"safety\") \\\n",
    "             .withColumnRenamed(\"_c6\", \"decision\")\n",
    "\n",
    "# Verifique se os nomes foram alterados\n",
    "dados.printSchema()\n"
   ]
  },
  {
   "cell_type": "code",
   "execution_count": 0,
   "metadata": {
    "application/vnd.databricks.v1+cell": {
     "cellMetadata": {
      "byteLimit": 2048000,
      "rowLimit": 10000
     },
     "inputWidgets": {},
     "nuid": "41695564-05b4-42bf-a436-8ed17712825f",
     "showTitle": false,
     "tableResultSettingsMap": {},
     "title": ""
    }
   },
   "outputs": [
    {
     "output_type": "display_data",
     "data": {
      "text/html": [
       "<style scoped>\n",
       "  .table-result-container {\n",
       "    max-height: 300px;\n",
       "    overflow: auto;\n",
       "  }\n",
       "  table, th, td {\n",
       "    border: 1px solid black;\n",
       "    border-collapse: collapse;\n",
       "  }\n",
       "  th, td {\n",
       "    padding: 5px;\n",
       "  }\n",
       "  th {\n",
       "    text-align: left;\n",
       "  }\n",
       "</style><div class='table-result-container'><table class='table-result'><thead style='background-color: white'><tr><th>buying_price</th><th>maintenance_cost</th><th>number_doors</th><th>number_persons</th><th>lug_boot</th><th>safety</th><th>decision</th></tr></thead><tbody><tr><td>vhigh</td><td>vhigh</td><td>2</td><td>2</td><td>small</td><td>low</td><td>unacc</td></tr><tr><td>vhigh</td><td>vhigh</td><td>2</td><td>2</td><td>small</td><td>med</td><td>unacc</td></tr><tr><td>vhigh</td><td>vhigh</td><td>2</td><td>2</td><td>small</td><td>high</td><td>unacc</td></tr><tr><td>vhigh</td><td>vhigh</td><td>2</td><td>2</td><td>med</td><td>low</td><td>unacc</td></tr><tr><td>vhigh</td><td>vhigh</td><td>2</td><td>2</td><td>med</td><td>med</td><td>unacc</td></tr></tbody></table></div>"
      ]
     },
     "metadata": {
      "application/vnd.databricks.v1+output": {
       "addedWidgets": {},
       "aggData": [],
       "aggError": "",
       "aggOverflow": false,
       "aggSchema": [],
       "aggSeriesLimitReached": false,
       "aggType": "",
       "arguments": {},
       "columnCustomDisplayInfos": {},
       "data": [
        [
         "vhigh",
         "vhigh",
         "2",
         "2",
         "small",
         "low",
         "unacc"
        ],
        [
         "vhigh",
         "vhigh",
         "2",
         "2",
         "small",
         "med",
         "unacc"
        ],
        [
         "vhigh",
         "vhigh",
         "2",
         "2",
         "small",
         "high",
         "unacc"
        ],
        [
         "vhigh",
         "vhigh",
         "2",
         "2",
         "med",
         "low",
         "unacc"
        ],
        [
         "vhigh",
         "vhigh",
         "2",
         "2",
         "med",
         "med",
         "unacc"
        ]
       ],
       "datasetInfos": [],
       "dbfsResultPath": null,
       "isJsonSchema": true,
       "metadata": {},
       "overflow": false,
       "plotOptions": {
        "customPlotOptions": {},
        "displayType": "table",
        "pivotAggregation": null,
        "pivotColumns": null,
        "xColumns": null,
        "yColumns": null
       },
       "removedWidgets": [],
       "schema": [
        {
         "metadata": "{}",
         "name": "buying_price",
         "type": "\"string\""
        },
        {
         "metadata": "{}",
         "name": "maintenance_cost",
         "type": "\"string\""
        },
        {
         "metadata": "{}",
         "name": "number_doors",
         "type": "\"string\""
        },
        {
         "metadata": "{}",
         "name": "number_persons",
         "type": "\"string\""
        },
        {
         "metadata": "{}",
         "name": "lug_boot",
         "type": "\"string\""
        },
        {
         "metadata": "{}",
         "name": "safety",
         "type": "\"string\""
        },
        {
         "metadata": "{}",
         "name": "decision",
         "type": "\"string\""
        }
       ],
       "type": "table"
      }
     },
     "output_type": "display_data"
    }
   ],
   "source": [
    "dados.limit(5).display()"
   ]
  },
  {
   "cell_type": "code",
   "execution_count": 0,
   "metadata": {
    "application/vnd.databricks.v1+cell": {
     "cellMetadata": {
      "byteLimit": 2048000,
      "rowLimit": 10000
     },
     "collapsed": true,
     "inputWidgets": {},
     "nuid": "83f120d6-7c3b-4543-a253-5021bccc9eb1",
     "showTitle": false,
     "tableResultSettingsMap": {},
     "title": ""
    }
   },
   "outputs": [
    {
     "output_type": "stream",
     "name": "stdout",
     "output_type": "stream",
     "text": [
      "1728 linhas e 7 colunas\n"
     ]
    }
   ],
   "source": [
    "print(\"{} linhas e {} colunas\".format(dados.count(), len(dados.columns)))"
   ]
  },
  {
   "cell_type": "markdown",
   "metadata": {
    "application/vnd.databricks.v1+cell": {
     "cellMetadata": {
      "byteLimit": 2048000,
      "rowLimit": 10000
     },
     "inputWidgets": {},
     "nuid": "63385717-1d81-4b26-8d63-531f94be105c",
     "showTitle": false,
     "tableResultSettingsMap": {},
     "title": ""
    }
   },
   "source": [
    "# Iniciando a construção do modelo\n",
    "Será utilizado as colunas de *[buying price]* e *[safety]* para construir um modelo de ML que consiga realizar previsões. \n",
    "\n",
    "Ao combinar essas duas variáveis, o modelo buscará entender como o preço de compra e a segurança estão inter-relacionados e como essa relação pode ser usada para prever resultados futuros, como a quantidade de vendas ou a satisfação do cliente."
   ]
  },
  {
   "cell_type": "markdown",
   "metadata": {
    "application/vnd.databricks.v1+cell": {
     "cellMetadata": {
      "byteLimit": 2048000,
      "rowLimit": 10000
     },
     "inputWidgets": {},
     "nuid": "a8521369-b551-453e-8657-ece068279986",
     "showTitle": false,
     "tableResultSettingsMap": {},
     "title": ""
    }
   },
   "source": [
    "## Transformação\n",
    " Para aplicar regressão linear em dados categóricos é preciso transformar as variáveis em valores numéricos, pois o modelo exige entradas numéricas. "
   ]
  },
  {
   "cell_type": "code",
   "execution_count": 0,
   "metadata": {
    "application/vnd.databricks.v1+cell": {
     "cellMetadata": {
      "byteLimit": 2048000,
      "rowLimit": 10000
     },
     "inputWidgets": {},
     "nuid": "6806c905-6f97-414c-8ce9-c429dc05fbf5",
     "showTitle": false,
     "tableResultSettingsMap": {},
     "title": ""
    }
   },
   "outputs": [],
   "source": [
    "from pyspark.ml.feature import StringIndexer, OneHotEncoder, VectorAssembler\n",
    "from pyspark.ml import Pipeline"
   ]
  },
  {
   "cell_type": "code",
   "execution_count": 0,
   "metadata": {
    "application/vnd.databricks.v1+cell": {
     "cellMetadata": {
      "byteLimit": 2048000,
      "rowLimit": 10000
     },
     "inputWidgets": {},
     "nuid": "1324cf79-927e-4278-887a-b29f8496f663",
     "showTitle": false,
     "tableResultSettingsMap": {},
     "title": ""
    }
   },
   "outputs": [],
   "source": [
    "# Aplica o StringIndexer nas colunas desejadas\n",
    "buying_price_indexer = StringIndexer(inputCol=\"buying_price\", outputCol=\"buying_price_index\")\n",
    "safety_indexer = StringIndexer(inputCol=\"safety\", outputCol=\"safety_index\")\n",
    "\n",
    "# Ajusta o indexador com todo o DataFrame para preservar o mapeamento de índices\n",
    "df_indexed = buying_price_indexer.fit(dados).transform(dados)\n",
    "df_indexed = safety_indexer.fit(df_indexed).transform(df_indexed)\n",
    "\n",
    "# Divide o DataFrame em treino e teste\n",
    "df_train, df_test = df_indexed.randomSplit([0.8, 0.2], seed=1234)\n",
    "\n",
    "# Monta o vetor de features apenas com as colunas indexadas\n",
    "vec_assembler = VectorAssembler(inputCols=[\"buying_price_index\", \"safety_index\"], outputCol=\"features\")\n"
   ]
  },
  {
   "cell_type": "markdown",
   "metadata": {
    "application/vnd.databricks.v1+cell": {
     "cellMetadata": {
      "byteLimit": 2048000,
      "rowLimit": 10000
     },
     "inputWidgets": {},
     "nuid": "9636d2db-345f-4a46-9582-0b5e76dc5c58",
     "showTitle": false,
     "tableResultSettingsMap": {},
     "title": ""
    }
   },
   "source": [
    "%md\n",
    "## Separação da base em Treino e Teste com *ajuste*\n",
    "Para verificar se o algoritmo ficou bom é preciso separar parte dos dados para teste.\n",
    "Será utilizado 80% dos dados para treino e 20% para teste."
   ]
  },
  {
   "cell_type": "code",
   "execution_count": 0,
   "metadata": {
    "application/vnd.databricks.v1+cell": {
     "cellMetadata": {
      "byteLimit": 2048000,
      "rowLimit": 10000
     },
     "inputWidgets": {},
     "nuid": "acedd22b-0d81-48b7-bc99-3e59b147c27e",
     "showTitle": false,
     "tableResultSettingsMap": {},
     "title": ""
    }
   },
   "outputs": [
    {
     "output_type": "stream",
     "name": "stdout",
     "output_type": "stream",
     "text": [
      "Conjunto de treino:\n+------------------+------------+---------+\n|buying_price_index|safety_index| features|\n+------------------+------------+---------+\n|               0.0|         0.0|(2,[],[])|\n|               0.0|         2.0|[0.0,2.0]|\n|               0.0|         0.0|(2,[],[])|\n+------------------+------------+---------+\nonly showing top 3 rows\n\nConjunto de teste:\n+------------------+------------+---------+\n|buying_price_index|safety_index| features|\n+------------------+------------+---------+\n|               0.0|         1.0|[0.0,1.0]|\n|               0.0|         1.0|[0.0,1.0]|\n|               0.0|         0.0|(2,[],[])|\n+------------------+------------+---------+\nonly showing top 3 rows\n\n"
     ]
    }
   ],
   "source": [
    "# Aplica a transformação nos conjuntos de treino e teste\n",
    "df_train_transformed = vec_assembler.transform(df_train)\n",
    "df_test_transformed = vec_assembler.transform(df_test)\n",
    "\n",
    "# Exibe o resultado final para treino e teste\n",
    "print(\"Conjunto de treino:\")\n",
    "df_train_transformed.select(\"buying_price_index\", \"safety_index\", \"features\").show(3)\n",
    "\n",
    "print(\"Conjunto de teste:\")\n",
    "df_test_transformed.select(\"buying_price_index\", \"safety_index\", \"features\").show(3)"
   ]
  }
 ],
 "metadata": {
  "application/vnd.databricks.v1+notebook": {
   "dashboards": [],
   "environmentMetadata": {
    "base_environment": "",
    "client": "1"
   },
   "language": "python",
   "notebookMetadata": {
    "pythonIndentUnit": 4
   },
   "notebookName": "projeto",
   "widgets": {}
  },
  "language_info": {
   "name": "python"
  }
 },
 "nbformat": 4,
 "nbformat_minor": 0
}
